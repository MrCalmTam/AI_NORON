{
  "nbformat": 4,
  "nbformat_minor": 0,
  "metadata": {
    "colab": {
      "provenance": [],
      "authorship_tag": "ABX9TyPBw/i3lk+XjjgZpXQhwUAw",
      "include_colab_link": true
    },
    "kernelspec": {
      "name": "python3",
      "display_name": "Python 3"
    },
    "language_info": {
      "name": "python"
    }
  },
  "cells": [
    {
      "cell_type": "markdown",
      "metadata": {
        "id": "view-in-github",
        "colab_type": "text"
      },
      "source": [
        "<a href=\"https://colab.research.google.com/github/MrCalmTam/AI_NORON/blob/main/AI_24_03.ipynb\" target=\"_parent\"><img src=\"https://colab.research.google.com/assets/colab-badge.svg\" alt=\"Open In Colab\"/></a>"
      ]
    },
    {
      "cell_type": "code",
      "execution_count": null,
      "metadata": {
        "colab": {
          "base_uri": "https://localhost:8080/"
        },
        "id": "8bxOmSouIEA9",
        "outputId": "8138b0c2-4cec-4871-9498-1d0f19b1336d"
      },
      "outputs": [
        {
          "output_type": "execute_result",
          "data": {
            "text/plain": [
              "1.0"
            ]
          },
          "metadata": {},
          "execution_count": 12
        }
      ],
      "source": [
        "from sklearn.linear_model import Perceptron\n",
        "# so cot la input, so hang là mẫu \n",
        "x= [[0,0],[1,0],[0,1],[1,1]]\n",
        "y =[0,1,1,1]\n",
        "model=Perceptron()\n",
        "model.fit(x,y)\n",
        "model.score(x,y)\n"
      ]
    },
    {
      "cell_type": "code",
      "source": [
        "x= [[0,0],[1,0],[0,1],[1,1]]\n",
        "y =[0,1,1,1]\n",
        "model=Perceptron()\n",
        "model.fit(x,y)\n",
        "model.score(x,y)\n",
        "x1=[[0.5,0],[0,0.5], [0.6,0],[0,0.6], [-10,2], [0.1,1], [-0.3,4]]\n",
        "y1\n"
      ],
      "metadata": {
        "colab": {
          "base_uri": "https://localhost:8080/"
        },
        "id": "Ifw5bDOFT3O7",
        "outputId": "122ece58-57b1-465f-e755-7a8b5a866fee"
      },
      "execution_count": null,
      "outputs": [
        {
          "output_type": "execute_result",
          "data": {
            "text/plain": [
              "array([0, 0, 0, 0, 1, 0, 0])"
            ]
          },
          "metadata": {},
          "execution_count": 17
        }
      ]
    },
    {
      "cell_type": "code",
      "source": [
        "x= [[-0.5,-0.5] ,   [-0.5,0.5],   [0.3,-0.5],    [-0.1,1]]\n",
        "y =[1,1,0,0]\n",
        "model = Perceptron()\n",
        "model.fit(x,y)\n",
        "model.score(x,y)\n",
        "x2=[[0.5,0],[0,0.5], [0.6,0],[0,0.6], [-10,2], [0.1,1], [-0.3,4]]\n",
        "y2 = model.predict(x2)\n",
        "y2"
      ],
      "metadata": {
        "colab": {
          "base_uri": "https://localhost:8080/"
        },
        "id": "btf2rsHCRAXd",
        "outputId": "229b624a-6c09-4336-9ea4-e4866449d919"
      },
      "execution_count": null,
      "outputs": [
        {
          "output_type": "execute_result",
          "data": {
            "text/plain": [
              "array([0, 0, 0, 0, 1, 0, 0])"
            ]
          },
          "metadata": {},
          "execution_count": 6
        }
      ]
    },
    {
      "cell_type": "code",
      "source": [
        "from sklearn.linear_model import Perceptron\n",
        "from sklearn import datasets\n",
        "from sklearn.model_selection import train_test_split\n",
        "from sklearn.metrics import accuracy_score # sai so , do chinh xac\n",
        "from sklearn.preprocessing import StandardScaler # chuan hoa du lieu, ti le"
      ],
      "metadata": {
        "id": "DjMEWeGXTXfj"
      },
      "execution_count": null,
      "outputs": []
    },
    {
      "cell_type": "code",
      "source": [
        "iris=datasets.load_iris() \n",
        "X = iris.data\n",
        "Y = iris.target \n",
        "print(X[:5])\n",
        "print(Y[:5])"
      ],
      "metadata": {
        "colab": {
          "base_uri": "https://localhost:8080/"
        },
        "id": "eI56TttmUwsw",
        "outputId": "38590b35-088f-4adb-9b2d-7990db80df53"
      },
      "execution_count": null,
      "outputs": [
        {
          "output_type": "stream",
          "name": "stdout",
          "text": [
            "[[5.1 3.5 1.4 0.2]\n",
            " [4.9 3.  1.4 0.2]\n",
            " [4.7 3.2 1.3 0.2]\n",
            " [4.6 3.1 1.5 0.2]\n",
            " [5.  3.6 1.4 0.2]]\n",
            "[0 0 0 0 0]\n"
          ]
        }
      ]
    },
    {
      "cell_type": "code",
      "source": [
        "X_train,X_test,Y_train,Y_test=train_test_split(X,Y,test_size=0.3)\n",
        "sc=StandardScaler()  #dat ham \n",
        "sc.fit(X_train)   \n",
        "X_train_std=sc.transform(X_train) # chuyen du lieu x tran thanh std \n",
        "X_test_std=sc.transform(X_test)   # chuyen du lieu x tran thanh std \n"
      ],
      "metadata": {
        "id": "EC95EMgvVpKK"
      },
      "execution_count": null,
      "outputs": []
    },
    {
      "cell_type": "code",
      "source": [
        "print(X_train,'/////',X_test_std)"
      ],
      "metadata": {
        "colab": {
          "base_uri": "https://localhost:8080/"
        },
        "id": "KA4ISjVHWaCs",
        "outputId": "5136112f-e981-41ed-9f0e-bf02829610e6"
      },
      "execution_count": null,
      "outputs": [
        {
          "output_type": "stream",
          "name": "stdout",
          "text": [
            "[[5.8 2.6 4.  1.2]\n",
            " [6.3 2.9 5.6 1.8]\n",
            " [5.6 2.8 4.9 2. ]\n",
            " [4.6 3.1 1.5 0.2]\n",
            " [6.  3.4 4.5 1.6]\n",
            " [5.3 3.7 1.5 0.2]\n",
            " [5.8 2.7 5.1 1.9]\n",
            " [5.7 4.4 1.5 0.4]\n",
            " [6.2 2.2 4.5 1.5]\n",
            " [6.4 2.8 5.6 2.1]\n",
            " [5.  3.2 1.2 0.2]\n",
            " [6.3 3.3 6.  2.5]\n",
            " [6.4 3.2 4.5 1.5]\n",
            " [5.6 3.  4.5 1.5]\n",
            " [4.6 3.4 1.4 0.3]\n",
            " [4.9 3.1 1.5 0.1]\n",
            " [4.7 3.2 1.6 0.2]\n",
            " [6.9 3.1 4.9 1.5]\n",
            " [5.8 4.  1.2 0.2]\n",
            " [4.3 3.  1.1 0.1]\n",
            " [5.4 3.9 1.7 0.4]\n",
            " [7.7 3.  6.1 2.3]\n",
            " [6.1 3.  4.6 1.4]\n",
            " [6.7 3.  5.2 2.3]\n",
            " [5.4 3.4 1.5 0.4]\n",
            " [5.1 3.8 1.5 0.3]\n",
            " [6.7 3.  5.  1.7]\n",
            " [7.7 2.6 6.9 2.3]\n",
            " [6.5 3.  5.5 1.8]\n",
            " [5.1 3.8 1.9 0.4]\n",
            " [5.1 3.5 1.4 0.2]\n",
            " [5.8 2.7 5.1 1.9]\n",
            " [6.8 2.8 4.8 1.4]\n",
            " [5.5 2.4 3.7 1. ]\n",
            " [7.3 2.9 6.3 1.8]\n",
            " [7.  3.2 4.7 1.4]\n",
            " [6.7 3.1 4.4 1.4]\n",
            " [6.3 2.5 4.9 1.5]\n",
            " [6.2 2.8 4.8 1.8]\n",
            " [6.1 2.6 5.6 1.4]\n",
            " [4.4 3.  1.3 0.2]\n",
            " [6.2 3.4 5.4 2.3]\n",
            " [6.1 3.  4.9 1.8]\n",
            " [7.2 3.2 6.  1.8]\n",
            " [5.  2.  3.5 1. ]\n",
            " [5.5 4.2 1.4 0.2]\n",
            " [6.1 2.8 4.  1.3]\n",
            " [4.9 3.1 1.5 0.2]\n",
            " [6.5 3.  5.8 2.2]\n",
            " [5.7 2.5 5.  2. ]\n",
            " [5.5 2.6 4.4 1.2]\n",
            " [5.  3.5 1.6 0.6]\n",
            " [5.8 2.7 4.1 1. ]\n",
            " [6.5 3.2 5.1 2. ]\n",
            " [5.4 3.7 1.5 0.2]\n",
            " [6.6 2.9 4.6 1.3]\n",
            " [5.9 3.  4.2 1.5]\n",
            " [7.7 2.8 6.7 2. ]\n",
            " [7.7 3.8 6.7 2.2]\n",
            " [4.8 3.4 1.6 0.2]\n",
            " [6.7 3.1 5.6 2.4]\n",
            " [5.7 2.8 4.5 1.3]\n",
            " [7.2 3.  5.8 1.6]\n",
            " [5.7 3.  4.2 1.2]\n",
            " [6.3 2.8 5.1 1.5]\n",
            " [7.4 2.8 6.1 1.9]\n",
            " [5.7 2.9 4.2 1.3]\n",
            " [5.  3.5 1.3 0.3]\n",
            " [5.7 2.6 3.5 1. ]\n",
            " [6.2 2.9 4.3 1.3]\n",
            " [5.  3.4 1.5 0.2]\n",
            " [4.7 3.2 1.3 0.2]\n",
            " [5.1 3.8 1.6 0.2]\n",
            " [6.8 3.2 5.9 2.3]\n",
            " [6.  2.9 4.5 1.5]\n",
            " [4.4 2.9 1.4 0.2]\n",
            " [5.4 3.9 1.3 0.4]\n",
            " [4.4 3.2 1.3 0.2]\n",
            " [5.5 2.3 4.  1.3]\n",
            " [6.7 3.3 5.7 2.5]\n",
            " [5.6 3.  4.1 1.3]\n",
            " [5.5 3.5 1.3 0.2]\n",
            " [6.9 3.1 5.1 2.3]\n",
            " [6.4 2.9 4.3 1.3]\n",
            " [5.8 2.8 5.1 2.4]\n",
            " [7.2 3.6 6.1 2.5]\n",
            " [4.5 2.3 1.3 0.3]\n",
            " [7.6 3.  6.6 2.1]\n",
            " [6.  2.7 5.1 1.6]\n",
            " [5.1 2.5 3.  1.1]\n",
            " [5.  3.  1.6 0.2]\n",
            " [6.4 3.1 5.5 1.8]\n",
            " [5.4 3.  4.5 1.5]\n",
            " [6.7 2.5 5.8 1.8]\n",
            " [5.  3.3 1.4 0.2]\n",
            " [6.3 2.5 5.  1.9]\n",
            " [5.1 3.7 1.5 0.4]\n",
            " [6.9 3.2 5.7 2.3]\n",
            " [5.1 3.4 1.5 0.2]\n",
            " [4.6 3.6 1.  0.2]\n",
            " [5.  3.6 1.4 0.2]\n",
            " [4.8 3.4 1.9 0.2]\n",
            " [6.3 3.4 5.6 2.4]\n",
            " [6.3 2.3 4.4 1.3]\n",
            " [5.6 2.7 4.2 1.3]] ///// [[ 0.61761235  0.27221554  0.8300481   1.39839717]\n",
            " [ 0.85172534 -0.18510657  0.33640716  0.24325265]\n",
            " [-0.78706556  0.72953764 -1.30906265 -1.29694003]\n",
            " [-0.31883959 -0.41376762 -0.10238479  0.11490326]\n",
            " [-0.90412205  0.9581987  -1.30906265 -1.16859064]\n",
            " [-0.78706556  0.9581987  -1.25421365 -1.29694003]\n",
            " [ 0.03232989 -0.18510657  0.72035012  0.75665022]\n",
            " [-1.13823504 -1.32841183  0.39125615  0.62830083]\n",
            " [ 0.73466884 -0.64242867  0.44610515  0.37160205]\n",
            " [-0.78706556  2.33016501 -1.25421365 -1.42528942]\n",
            " [-1.13823504 -1.55707288 -0.26693177 -0.27014491]\n",
            " [ 1.4370078  -0.18510657  1.15914206  1.14169839]\n",
            " [-1.25529153  0.04355449 -1.19936466 -1.29694003]\n",
            " [-0.43589608 -1.32841183  0.11701119  0.11490326]\n",
            " [-0.31883959 -1.32841183  0.06216219 -0.14179552]\n",
            " [ 0.26644287 -0.41376762  0.50095414  0.24325265]\n",
            " [ 0.14938638 -0.18510657  0.55580313  0.75665022]\n",
            " [ 0.26644287 -0.64242867  0.50095414 -0.01344613]\n",
            " [ 0.14938638 -2.01439499  0.66550112  0.37160205]\n",
            " [ 0.96878183  0.50087659  1.04944408  1.14169839]\n",
            " [-0.2017831   1.64418185 -1.14451567 -1.16859064]\n",
            " [-1.02117854 -1.78573393 -0.26693177 -0.27014491]\n",
            " [-1.48940451  0.27221554 -1.30906265 -1.29694003]\n",
            " [ 1.20289481  0.04355449  0.8848971   1.14169839]\n",
            " [ 0.03232989  0.27221554  0.55580313  0.75665022]\n",
            " [-0.43589608 -1.55707288  0.0073132  -0.14179552]\n",
            " [-1.25529153 -0.18510657 -1.30906265 -1.42528942]\n",
            " [-1.13823504  1.18685975 -1.30906265 -1.42528942]\n",
            " [-1.25529153 -0.18510657 -1.30906265 -1.16859064]\n",
            " [-0.0847266  -0.87108972  0.06216219 -0.01344613]\n",
            " [ 0.73466884 -0.18510657  0.77519911  1.013349  ]\n",
            " [ 0.96878183  0.04355449  0.50095414  0.37160205]\n",
            " [ 2.37345974  1.64418185  1.43338703  1.013349  ]\n",
            " [-0.2017831  -0.64242867  0.17186018  0.11490326]\n",
            " [-0.90412205  0.50087659 -1.14451567 -0.91189186]\n",
            " [ 1.08583832 -0.18510657  0.93974609  1.14169839]\n",
            " [-0.78706556 -0.87108972  0.06216219  0.24325265]\n",
            " [ 0.50055586 -0.87108972  0.61065213  0.75665022]\n",
            " [-1.13823504 -0.18510657 -1.30906265 -1.29694003]\n",
            " [ 0.61761235 -0.87108972  0.8300481   0.88499961]\n",
            " [-0.55295257  0.72953764 -1.14451567 -1.29694003]\n",
            " [ 0.61761235 -0.64242867  0.99459508  1.27004778]\n",
            " [-1.02117854  0.72953764 -1.19936466 -1.04024125]\n",
            " [ 0.50055586  0.50087659  0.50095414  0.49995144]\n",
            " [ 0.14938638 -2.01439499  0.11701119 -0.27014491]]\n"
          ]
        }
      ]
    },
    {
      "cell_type": "code",
      "source": [
        "model = Perceptron(max_iter = 40 ,eta0 = 0.1 , random_state =0 )   # day cho no hoc , max_iter la so lan hoc, eta0 la toc do hoc tu 0 ->1.\n",
        "model.fit(X_train,Y_train)\n",
        "Y_pred=model.predict(X_test)\n",
        "print(Y_pred)\n",
        "print(Y_test)\n",
        "print(' ĐỘ CHÍNH XÁC CỦA MÔ HÌNH CHƯA SCALE :',accuracy_score(Y_test,Y_pred))"
      ],
      "metadata": {
        "colab": {
          "base_uri": "https://localhost:8080/"
        },
        "id": "VjTK8msMWtCf",
        "outputId": "9168f06d-be30-4087-d2fd-14f1f229251d"
      },
      "execution_count": null,
      "outputs": [
        {
          "output_type": "stream",
          "name": "stdout",
          "text": [
            "[2 0 0 0 0 0 2 2 0 0 0 2 0 0 0 2 2 0 2 2 0 0 0 2 2 0 0 0 0 0 2 0 2 0 0 2 0\n",
            " 2 0 2 0 2 0 0 0]\n",
            "[2 1 0 1 0 0 2 2 1 0 1 2 0 1 1 1 2 1 2 2 0 1 0 2 1 1 0 0 0 1 2 1 2 1 0 2 1\n",
            " 2 0 2 0 2 0 1 1]\n",
            " ĐỘ CHÍNH XÁC CỦA MÔ HÌNH CHƯA SCALE : 0.6222222222222222\n"
          ]
        }
      ]
    },
    {
      "cell_type": "code",
      "source": [
        "model = Perceptron(max_iter = 40 ,eta0 = 0.1 , random_state =0 )   # day cho no hoc , max_iter la so lan hoc, eta0 la toc do hoc tu 0 ->1.\n",
        "model.fit(X_train_std,Y_train)\n",
        "Y_pred=model.predict(X_test_std)\n",
        "print(Y_pred)\n",
        "print(Y_test)\n",
        "print(' ĐỘ CHÍNH XÁC CỦA MÔ HÌNH SCALE :',accuracy_score(Y_test,Y_pred))"
      ],
      "metadata": {
        "colab": {
          "base_uri": "https://localhost:8080/"
        },
        "id": "tBYZwnSFYrtR",
        "outputId": "5cfaed5d-f50d-4dcd-f02f-39ebf6941903"
      },
      "execution_count": null,
      "outputs": [
        {
          "output_type": "stream",
          "name": "stdout",
          "text": [
            "[2 1 0 0 0 0 2 2 1 0 0 2 0 0 1 1 2 1 2 2 0 0 0 2 2 0 0 0 0 0 2 1 2 0 0 2 0\n",
            " 2 0 2 0 2 0 2 1]\n",
            "[2 1 0 1 0 0 2 2 1 0 1 2 0 1 1 1 2 1 2 2 0 1 0 2 1 1 0 0 0 1 2 1 2 1 0 2 1\n",
            " 2 0 2 0 2 0 1 1]\n",
            " ĐỘ CHÍNH XÁC CỦA MÔ HÌNH SCALE : 0.7777777777777778\n"
          ]
        }
      ]
    },
    {
      "cell_type": "code",
      "source": [
        "model = Perceptron(max_iter = 1000 ,eta0 = 0.1 , random_state =0 )   # day cho no hoc , max_iter la so lan hoc, eta0 la toc do hoc tu 0 ->1.\n",
        "model.fit(X_train_std,Y_train)\n",
        "Y_pred=model.predict(X_test_std)\n",
        "print(Y_pred)\n",
        "print(Y_test)\n",
        "print(' ĐỘ CHÍNH XÁC CỦA MÔ HÌNH SCALE :',accuracy_score(Y_test,Y_pred))"
      ],
      "metadata": {
        "colab": {
          "base_uri": "https://localhost:8080/"
        },
        "id": "1BfUu1ChZLS2",
        "outputId": "8dd19083-4e20-4f39-be6a-b158f7e6564e"
      },
      "execution_count": null,
      "outputs": [
        {
          "output_type": "stream",
          "name": "stdout",
          "text": [
            "[2 1 0 0 0 0 2 2 1 0 0 2 0 0 1 1 2 1 2 2 0 0 0 2 2 0 0 0 0 0 2 1 2 0 0 2 0\n",
            " 2 0 2 0 2 0 2 1]\n",
            "[2 1 0 1 0 0 2 2 1 0 1 2 0 1 1 1 2 1 2 2 0 1 0 2 1 1 0 0 0 1 2 1 2 1 0 2 1\n",
            " 2 0 2 0 2 0 1 1]\n",
            " ĐỘ CHÍNH XÁC CỦA MÔ HÌNH SCALE : 0.7777777777777778\n"
          ]
        }
      ]
    },
    {
      "cell_type": "code",
      "source": [
        "model = Perceptron(max_iter = 1 ,eta0 = 0.5 , random_state =0 )   # day cho no hoc , max_iter la so lan hoc, eta0 la toc do hoc tu 0 ->1.\n",
        "model.fit(X_train_std,Y_train)\n",
        "Y_pred=model.predict(X_test_std)\n",
        "print(Y_pred)\n",
        "print(Y_test)\n",
        "print(' ĐỘ CHÍNH XÁC CỦA MÔ HÌNH SCALE :',accuracy_score(Y_test,Y_pred))"
      ],
      "metadata": {
        "colab": {
          "base_uri": "https://localhost:8080/"
        },
        "id": "cLDtNUGtaFQh",
        "outputId": "a6fbd139-9c8f-443b-8ad8-da3e2b72ddb7"
      },
      "execution_count": null,
      "outputs": [
        {
          "output_type": "stream",
          "name": "stdout",
          "text": [
            "[2 1 1 1 1 1 2 1 1 0 1 2 1 1 1 1 2 1 1 2 0 1 1 2 2 1 1 1 1 1 2 2 2 1 1 2 1\n",
            " 2 1 2 1 2 1 2 1]\n",
            "[2 1 0 1 0 0 2 2 1 0 1 2 0 1 1 1 2 1 2 2 0 1 0 2 1 1 0 0 0 1 2 1 2 1 0 2 1\n",
            " 2 0 2 0 2 0 1 1]\n",
            " ĐỘ CHÍNH XÁC CỦA MÔ HÌNH SCALE : 0.6222222222222222\n"
          ]
        },
        {
          "output_type": "stream",
          "name": "stderr",
          "text": [
            "/usr/local/lib/python3.9/dist-packages/sklearn/linear_model/_stochastic_gradient.py:702: ConvergenceWarning: Maximum number of iteration reached before convergence. Consider increasing max_iter to improve the fit.\n",
            "  warnings.warn(\n"
          ]
        }
      ]
    },
    {
      "cell_type": "code",
      "source": [
        "model = Perceptron(max_iter = 1000 ,eta0 = 0.19 , random_state =0 )   # day cho no hoc , max_iter la so lan hoc, eta0 la toc do hoc tu 0 ->1.\n",
        "model.fit(X_train_std,Y_train)\n",
        "Y_pred=model.predict(X_test_std)\n",
        "print(Y_pred)\n",
        "print(Y_test)\n",
        "print(' ĐỘ CHÍNH XÁC CỦA MÔ HÌNH SCALE :',accuracy_score(Y_test,Y_pred))"
      ],
      "metadata": {
        "colab": {
          "base_uri": "https://localhost:8080/"
        },
        "id": "-JXF2yH6aMm2",
        "outputId": "451aba10-c497-4e4d-e040-e36454e0835a"
      },
      "execution_count": null,
      "outputs": [
        {
          "output_type": "stream",
          "name": "stdout",
          "text": [
            "[2 1 0 0 0 0 2 2 1 0 0 2 0 0 1 1 2 1 2 2 0 0 0 2 2 0 0 0 0 0 2 1 2 0 0 2 0\n",
            " 2 0 2 0 2 0 2 1]\n",
            "[2 1 0 1 0 0 2 2 1 0 1 2 0 1 1 1 2 1 2 2 0 1 0 2 1 1 0 0 0 1 2 1 2 1 0 2 1\n",
            " 2 0 2 0 2 0 1 1]\n",
            " ĐỘ CHÍNH XÁC CỦA MÔ HÌNH SCALE : 0.7777777777777778\n"
          ]
        }
      ]
    },
    {
      "cell_type": "code",
      "source": [
        "model = Perceptron(max_iter = 10000 ,eta0 = 0.0001 , random_state =0 )   # day cho no hoc , max_iter la so lan hoc, eta0 la toc do hoc tu 0 ->1.\n",
        "model.fit(X_train_std,Y_train)\n",
        "Y_pred=model.predict(X_test_std)\n",
        "print(Y_pred)\n",
        "print(Y_test)\n",
        "print(' ĐỘ CHÍNH XÁC CỦA MÔ HÌNH SCALE :',accuracy_score(Y_test,Y_pred))"
      ],
      "metadata": {
        "colab": {
          "base_uri": "https://localhost:8080/"
        },
        "id": "4ADoj057agwe",
        "outputId": "30d26b5b-2a50-4e6e-b861-00ae2d9bc38c"
      },
      "execution_count": null,
      "outputs": [
        {
          "output_type": "stream",
          "name": "stdout",
          "text": [
            "[2 2 0 0 0 0 2 1 2 0 1 2 0 1 1 1 2 1 1 2 0 1 0 2 2 1 0 0 0 1 2 2 2 1 0 2 1\n",
            " 2 0 2 0 2 0 2 1]\n",
            "[2 1 0 1 0 0 2 2 1 0 1 2 0 1 1 1 2 1 2 2 0 1 0 2 1 1 0 0 0 1 2 1 2 1 0 2 1\n",
            " 2 0 2 0 2 0 1 1]\n",
            " ĐỘ CHÍNH XÁC CỦA MÔ HÌNH SCALE : 0.8222222222222222\n"
          ]
        }
      ]
    },
    {
      "cell_type": "code",
      "source": [
        "model = Perceptron(max_iter = 100000000 ,eta0 = 0.000000001 , random_state =0 )   # day cho no hoc , max_iter la so lan hoc, eta0 la toc do hoc tu 0 ->1.\n",
        "model.fit(X_train_std,Y_train)\n",
        "Y_pred=model.predict(X_test_std)\n",
        "print(Y_pred)\n",
        "print(Y_test)\n",
        "print(' ĐỘ CHÍNH XÁC CỦA MÔ HÌNH SCALE :',accuracy_score(Y_test,Y_pred))"
      ],
      "metadata": {
        "colab": {
          "base_uri": "https://localhost:8080/"
        },
        "id": "IMt17vobam_A",
        "outputId": "bd6e9196-b5a7-4326-d1c8-a3fd5d9d69a0"
      },
      "execution_count": null,
      "outputs": [
        {
          "output_type": "stream",
          "name": "stdout",
          "text": [
            "[2 2 0 0 0 0 2 1 2 0 1 2 0 1 1 1 2 1 1 2 0 1 0 2 2 1 0 0 0 1 2 2 2 1 0 2 1\n",
            " 2 0 2 0 2 0 2 1]\n",
            "[2 1 0 1 0 0 2 2 1 0 1 2 0 1 1 1 2 1 2 2 0 1 0 2 1 1 0 0 0 1 2 1 2 1 0 2 1\n",
            " 2 0 2 0 2 0 1 1]\n",
            " ĐỘ CHÍNH XÁC CỦA MÔ HÌNH SCALE : 0.8222222222222222\n"
          ]
        }
      ]
    },
    {
      "cell_type": "code",
      "source": [
        "model = Perceptron(max_iter = 100000 ,eta0 = 0.5 , random_state =0 )   # day cho no hoc , max_iter la so lan hoc, eta0 la toc do hoc tu 0 ->1.\n",
        "model.fit(X_train_std,Y_train)\n",
        "Y_pred=model.predict(X_test_std)\n",
        "print(Y_pred)\n",
        "print(Y_test)\n",
        "print(' ĐỘ CHÍNH XÁC CỦA MÔ HÌNH SCALE :',accuracy_score(Y_test,Y_pred))"
      ],
      "metadata": {
        "colab": {
          "base_uri": "https://localhost:8080/"
        },
        "id": "dk1hBXajazYW",
        "outputId": "58c3c646-94ea-47d6-dba7-f32677d708be"
      },
      "execution_count": null,
      "outputs": [
        {
          "output_type": "stream",
          "name": "stdout",
          "text": [
            "[2 1 0 0 0 0 2 2 1 0 0 2 0 0 1 1 2 1 2 2 0 0 0 2 2 0 0 0 0 0 2 1 2 0 0 2 0\n",
            " 2 0 2 0 2 0 2 1]\n",
            "[2 1 0 1 0 0 2 2 1 0 1 2 0 1 1 1 2 1 2 2 0 1 0 2 1 1 0 0 0 1 2 1 2 1 0 2 1\n",
            " 2 0 2 0 2 0 1 1]\n",
            " ĐỘ CHÍNH XÁC CỦA MÔ HÌNH SCALE : 0.7777777777777778\n"
          ]
        }
      ]
    }
  ]
}